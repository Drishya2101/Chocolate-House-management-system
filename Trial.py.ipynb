{
 "cells": [
  {
   "cell_type": "code",
   "execution_count": 2,
   "id": "1e0d9556",
   "metadata": {},
   "outputs": [],
   "source": [
    "import sqlite3 as sq"
   ]
  },
  {
   "cell_type": "code",
   "execution_count": 3,
   "id": "75817a61",
   "metadata": {},
   "outputs": [],
   "source": [
    "conn=sq.connect(\"choco.db\")"
   ]
  },
  {
   "cell_type": "code",
   "execution_count": 4,
   "id": "44fc4be3",
   "metadata": {},
   "outputs": [],
   "source": [
    "cursor=conn.cursor()"
   ]
  },
  {
   "cell_type": "code",
   "execution_count": 10,
   "id": "b09fb074",
   "metadata": {},
   "outputs": [
    {
     "name": "stdout",
     "output_type": "stream",
     "text": [
      "Flavor 'Pumpkin Spice' added successfully.\n",
      "Ingredient 'Cocoa Powder' added successfully with quantity 50.\n",
      "Ingredient 'Sugar' added successfully with quantity 100.\n",
      "Suggestion added successfully.\n",
      "Seasonal Flavors:\n",
      "(1, 'Pumpkin Spice', 'A seasonal delight!', '2023-09-01', '2023-12-01')\n",
      "\n",
      "Ingredient Inventory:\n",
      "(1, 'Cocoa Powder', 50)\n",
      "(2, 'Sugar', 100)\n",
      "\n",
      "Customer Suggestions:\n",
      "(1, 'Pumpkin Spice', 'More chocolate!', 'None')\n"
     ]
    }
   ],
   "source": [
    "cursor.execute('''\n",
    "    CREATE TABLE IF NOT EXISTS seasonal_flavors (\n",
    "        id INTEGER PRIMARY KEY AUTOINCREMENT,\n",
    "        name TEXT NOT NULL,\n",
    "        description TEXT,\n",
    "        available_from TEXT,\n",
    "        available_to TEXT\n",
    "    )\n",
    "''')\n",
    "\n",
    "cursor.execute('''\n",
    "    CREATE TABLE IF NOT EXISTS inventory (\n",
    "        id INTEGER PRIMARY KEY AUTOINCREMENT,\n",
    "        ingredient TEXT NOT NULL,\n",
    "        quantity INTEGER NOT NULL\n",
    "    )\n",
    "''')\n",
    "\n",
    "cursor.execute('''\n",
    "    CREATE TABLE IF NOT EXISTS customer_suggestions (\n",
    "        id INTEGER PRIMARY KEY AUTOINCREMENT,\n",
    "        flavor_id INTEGER,\n",
    "        suggestion TEXT,\n",
    "        allergy_concerns TEXT,\n",
    "        FOREIGN KEY (flavor_id) REFERENCES seasonal_flavors(id)\n",
    "    )\n",
    "''')\n",
    "\n",
    "# Commit the changes\n",
    "conn.commit()\n",
    "\n",
    "# Function to add a seasonal flavor\n",
    "def add_flavor(name, description, available_from, available_to):\n",
    "    cursor.execute('''\n",
    "        INSERT INTO seasonal_flavors (name, description, available_from, available_to)\n",
    "        VALUES (?, ?, ?, ?)\n",
    "    ''', (name, description, available_from, available_to))\n",
    "    conn.commit()\n",
    "    print(f\"Flavor '{name}' added successfully.\")\n",
    "\n",
    "# Function to add an ingredient to inventory\n",
    "def add_ingredient(ingredient, quantity):\n",
    "    cursor.execute('''\n",
    "        INSERT INTO inventory (ingredient, quantity)\n",
    "        VALUES (?, ?)\n",
    "    ''', (ingredient, quantity))\n",
    "    conn.commit()\n",
    "    print(f\"Ingredient '{ingredient}' added successfully with quantity {quantity}.\")\n",
    "\n",
    "# Function to get all seasonal flavors\n",
    "def get_flavors():\n",
    "    cursor.execute(\"SELECT * FROM seasonal_flavors\")\n",
    "    flavors = cursor.fetchall()\n",
    "    return flavors\n",
    "\n",
    "# Function to get inventory\n",
    "def get_inventory():\n",
    "    cursor.execute(\"SELECT * FROM inventory\")\n",
    "    inventory = cursor.fetchall()\n",
    "    return inventory\n",
    "\n",
    "# Function to add a customer suggestion\n",
    "def add_suggestion(flavor_id, suggestion, allergy_concerns):\n",
    "    cursor.execute('''\n",
    "        INSERT INTO customer_suggestions (flavor_id, suggestion, allergy_concerns)\n",
    "        VALUES (?, ?, ?)\n",
    "    ''', (flavor_id, suggestion, allergy_concerns))\n",
    "    conn.commit()\n",
    "    print(\"Suggestion added successfully.\")\n",
    "\n",
    "# Function to get customer suggestions\n",
    "def get_suggestions():\n",
    "    cursor.execute('''\n",
    "        SELECT cs.id, sf.name, cs.suggestion, cs.allergy_concerns\n",
    "        FROM customer_suggestions cs\n",
    "        JOIN seasonal_flavors sf ON cs.flavor_id = sf.id\n",
    "    ''')\n",
    "    suggestions = cursor.fetchall()\n",
    "    return suggestions\n",
    "\n",
    "# Sample Usage\n",
    "if __name__ == \"__main__\":\n",
    "    add_flavor(\"Pumpkin Spice\", \"A seasonal delight!\", \"2023-09-01\", \"2023-12-01\")\n",
    "    add_ingredient(\"Cocoa Powder\", 50)\n",
    "    add_ingredient(\"Sugar\", 100)\n",
    "    add_suggestion(1, \"More chocolate!\", \"None\")\n",
    "\n",
    "    print(\"Seasonal Flavors:\")\n",
    "    for flavor in get_flavors():\n",
    "        print(flavor)\n",
    "\n",
    "    print(\"\\nIngredient Inventory:\")\n",
    "    for item in get_inventory():\n",
    "        print(item)\n",
    "\n",
    "    print(\"\\nCustomer Suggestions:\")\n",
    "    for suggestion in get_suggestions():\n",
    "        print(suggestion)\n",
    "\n",
    "# Close the connection\n",
    "conn.close()"
   ]
  },
  {
   "cell_type": "code",
   "execution_count": 11,
   "id": "1accb878",
   "metadata": {},
   "outputs": [
    {
     "name": "stdout",
     "output_type": "stream",
     "text": [
      "Requirement already satisfied: Flask in c:\\users\\drishya subramanya\\appdata\\local\\programs\\python\\python37\\lib\\site-packages (2.2.5)Note: you may need to restart the kernel to use updated packages.\n",
      "\n",
      "Requirement already satisfied: Werkzeug>=2.2.2 in c:\\users\\drishya subramanya\\appdata\\local\\programs\\python\\python37\\lib\\site-packages (from Flask) (2.2.3)\n",
      "Requirement already satisfied: Jinja2>=3.0 in c:\\users\\drishya subramanya\\appdata\\local\\programs\\python\\python37\\lib\\site-packages (from Flask) (3.1.2)\n",
      "Requirement already satisfied: itsdangerous>=2.0 in c:\\users\\drishya subramanya\\appdata\\local\\programs\\python\\python37\\lib\\site-packages (from Flask) (2.1.2)\n",
      "Requirement already satisfied: click>=8.0 in c:\\users\\drishya subramanya\\appdata\\local\\programs\\python\\python37\\lib\\site-packages (from Flask) (8.1.7)\n",
      "Requirement already satisfied: importlib-metadata>=3.6.0 in c:\\users\\drishya subramanya\\appdata\\local\\programs\\python\\python37\\lib\\site-packages (from Flask) (6.7.0)\n",
      "Requirement already satisfied: colorama in c:\\users\\drishya subramanya\\appdata\\local\\programs\\python\\python37\\lib\\site-packages (from click>=8.0->Flask) (0.4.6)\n",
      "Requirement already satisfied: zipp>=0.5 in c:\\users\\drishya subramanya\\appdata\\local\\programs\\python\\python37\\lib\\site-packages (from importlib-metadata>=3.6.0->Flask) (3.15.0)\n",
      "Requirement already satisfied: typing-extensions>=3.6.4 in c:\\users\\drishya subramanya\\appdata\\local\\programs\\python\\python37\\lib\\site-packages (from importlib-metadata>=3.6.0->Flask) (4.7.1)\n",
      "Requirement already satisfied: MarkupSafe>=2.0 in c:\\users\\drishya subramanya\\appdata\\local\\programs\\python\\python37\\lib\\site-packages (from Jinja2>=3.0->Flask) (2.1.3)\n"
     ]
    }
   ],
   "source": [
    "pip install Flask"
   ]
  },
  {
   "cell_type": "code",
   "execution_count": null,
   "id": "725b6083",
   "metadata": {},
   "outputs": [],
   "source": []
  }
 ],
 "metadata": {
  "kernelspec": {
   "display_name": "Python 3 (ipykernel)",
   "language": "python",
   "name": "python3"
  },
  "language_info": {
   "codemirror_mode": {
    "name": "ipython",
    "version": 3
   },
   "file_extension": ".py",
   "mimetype": "text/x-python",
   "name": "python",
   "nbconvert_exporter": "python",
   "pygments_lexer": "ipython3",
   "version": "3.7.2"
  }
 },
 "nbformat": 4,
 "nbformat_minor": 5
}
