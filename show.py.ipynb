{
 "cells": [
  {
   "cell_type": "code",
   "execution_count": 2,
   "id": "c04f75ec",
   "metadata": {},
   "outputs": [
    {
     "name": "stdout",
     "output_type": "stream",
     "text": [
      " * Serving Flask app '__main__'\n",
      " * Debug mode: on\n"
     ]
    },
    {
     "name": "stderr",
     "output_type": "stream",
     "text": [
      "WARNING: This is a development server. Do not use it in a production deployment. Use a production WSGI server instead.\n",
      " * Running on http://127.0.0.1:5000\n",
      "Press CTRL+C to quit\n",
      " * Restarting with stat\n"
     ]
    },
    {
     "ename": "SystemExit",
     "evalue": "1",
     "output_type": "error",
     "traceback": [
      "An exception has occurred, use %tb to see the full traceback.\n",
      "\u001b[1;31mSystemExit\u001b[0m\u001b[1;31m:\u001b[0m 1\n"
     ]
    }
   ],
   "source": [
    "from flask import Flask, request, render_template, redirect, url_for\n",
    "import sqlite3\n",
    "\n",
    "app = Flask(__name__)\n",
    "\n",
    "# Function to connect to the SQLite database\n",
    "def get_db_connection():\n",
    "    conn = sqlite3.connect('chocolate_house.db')\n",
    "    conn.row_factory = sqlite3.Row\n",
    "    return conn\n",
    "\n",
    "@app.route('/')\n",
    "def index():\n",
    "    return render_template('index.html')\n",
    "\n",
    "@app.route('/flavors')\n",
    "def show_flavors():\n",
    "    conn = get_db_connection()\n",
    "    flavors = conn.execute('SELECT * FROM seasonal_flavors').fetchall()\n",
    "    conn.close()\n",
    "    return render_template('flavors.html', flavors=flavors)\n",
    "\n",
    "@app.route('/inventory')\n",
    "def show_inventory():\n",
    "    conn = get_db_connection()\n",
    "    inventory = conn.execute('SELECT * FROM inventory').fetchall()\n",
    "    conn.close()\n",
    "    return render_template('inventory.html', inventory=inventory)\n",
    "\n",
    "@app.route('/suggestions')\n",
    "def show_suggestions():\n",
    "    conn = get_db_connection()\n",
    "    suggestions = conn.execute('''\n",
    "        SELECT cs.id, sf.name, cs.suggestion, cs.allergy_concerns\n",
    "        FROM customer_suggestions cs\n",
    "        JOIN seasonal_flavors sf ON cs.flavor_id = sf.id\n",
    "    ''').fetchall()\n",
    "    conn.close()\n",
    "    return render_template('suggestion.html', suggestions=suggestions)\n",
    "\n",
    "# You can add your add_flavor, add_ingredient, and add_suggestion routes here...\n",
    "\n",
    "if __name__ == \"__main__\":\n",
    "    app.run(debug=True)"
   ]
  },
  {
   "cell_type": "code",
   "execution_count": null,
   "id": "cae08406",
   "metadata": {},
   "outputs": [],
   "source": []
  }
 ],
 "metadata": {
  "kernelspec": {
   "display_name": "Python 3 (ipykernel)",
   "language": "python",
   "name": "python3"
  },
  "language_info": {
   "codemirror_mode": {
    "name": "ipython",
    "version": 3
   },
   "file_extension": ".py",
   "mimetype": "text/x-python",
   "name": "python",
   "nbconvert_exporter": "python",
   "pygments_lexer": "ipython3",
   "version": "3.7.2"
  }
 },
 "nbformat": 4,
 "nbformat_minor": 5
}
