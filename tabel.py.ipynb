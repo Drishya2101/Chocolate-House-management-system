{
 "cells": [
  {
   "cell_type": "code",
   "execution_count": 6,
   "id": "9453acaa",
   "metadata": {},
   "outputs": [],
   "source": [
    "import sqlite3\n",
    "\n",
    "# Create a new SQLite database or connect to it\n",
    "conn = sqlite3.connect('chocolate_house.db')\n",
    "\n",
    "# Create tables\n",
    "conn.execute('''\n",
    "CREATE TABLE IF NOT EXISTS seasonal_flavors (\n",
    "    id INTEGER PRIMARY KEY AUTOINCREMENT,\n",
    "    name TEXT NOT NULL,\n",
    "    description TEXT,\n",
    "    available_from DATE,\n",
    "    available_to DATE\n",
    ");\n",
    "''')\n",
    "\n",
    "conn.execute('''\n",
    "CREATE TABLE IF NOT EXISTS inventory (\n",
    "    id INTEGER PRIMARY KEY AUTOINCREMENT,\n",
    "    ingredient TEXT NOT NULL,\n",
    "    quantity INTEGER NOT NULL\n",
    ");\n",
    "''')\n",
    "\n",
    "conn.execute('''\n",
    "CREATE TABLE IF NOT EXISTS customer_suggestions (\n",
    "    id INTEGER PRIMARY KEY AUTOINCREMENT,\n",
    "    flavor_id INTEGER,\n",
    "    suggestion TEXT NOT NULL,\n",
    "    allergy_concerns TEXT,\n",
    "    FOREIGN KEY (flavor_id) REFERENCES seasonal_flavors (id)\n",
    ");\n",
    "''')\n",
    "\n",
    "# Commit changes and close the connection\n",
    "conn.commit()\n",
    "conn.close()"
   ]
  },
  {
   "cell_type": "code",
   "execution_count": null,
   "id": "65c3e7da",
   "metadata": {},
   "outputs": [],
   "source": []
  },
  {
   "cell_type": "code",
   "execution_count": null,
   "id": "bc3a242b",
   "metadata": {},
   "outputs": [],
   "source": []
  }
 ],
 "metadata": {
  "kernelspec": {
   "display_name": "Python 3 (ipykernel)",
   "language": "python",
   "name": "python3"
  },
  "language_info": {
   "codemirror_mode": {
    "name": "ipython",
    "version": 3
   },
   "file_extension": ".py",
   "mimetype": "text/x-python",
   "name": "python",
   "nbconvert_exporter": "python",
   "pygments_lexer": "ipython3",
   "version": "3.7.2"
  }
 },
 "nbformat": 4,
 "nbformat_minor": 5
}
